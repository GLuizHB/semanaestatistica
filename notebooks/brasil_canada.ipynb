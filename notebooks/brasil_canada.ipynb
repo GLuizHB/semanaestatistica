{
 "cells": [
  {
   "cell_type": "code",
   "execution_count": 2,
   "metadata": {},
   "outputs": [
    {
     "name": "stdout",
     "output_type": "stream",
     "text": [
      "['False', 'None', 'True', 'and', 'as', 'assert', 'async', 'await', 'break', 'class', 'continue', 'def', 'del', 'elif', 'else', 'except', 'finally', 'for', 'from', 'global', 'if', 'import', 'in', 'is', 'lambda', 'nonlocal', 'not', 'or', 'pass', 'raise', 'return', 'try', 'while', 'with', 'yield']\n"
     ]
    }
   ],
   "source": [
    "import keyword\n",
    "print(keyword.kwlist)"
   ]
  },
  {
   "cell_type": "code",
   "execution_count": 3,
   "metadata": {},
   "outputs": [
    {
     "name": "stdout",
     "output_type": "stream",
     "text": [
      "<class 'int'>\n",
      "<class 'complex'>\n"
     ]
    }
   ],
   "source": [
    "x = 10\n",
    "print(type(x))\n",
    "y = 3j\n",
    "print(type(y))\n"
   ]
  },
  {
   "cell_type": "markdown",
   "metadata": {},
   "source": [
    "## Exercício - revisão\n",
    "\"\"\"\n",
    "    Qual é sua a altura?\n",
    "    Qual é seu peso?\n",
    "    Qual o seu IMC?\n",
    "\n",
    "    função (mundo é baseado em funções)\n",
    "    IMC = peso/altura²\n",
    "    \n",
    "\"\"\""
   ]
  },
  {
   "cell_type": "code",
   "execution_count": 14,
   "metadata": {},
   "outputs": [
    {
     "name": "stdout",
     "output_type": "stream",
     "text": [
      "seu IMC é: 32.18\n",
      "Obesidade Grau 1\n"
     ]
    }
   ],
   "source": [
    "altura = float(input(\"Qual é sua altura: \").replace(\",\",\".\"))\n",
    "peso = float(input(\"Qual é seu peso: \"))\n",
    "\n",
    "imc = peso / (altura ** 2)\n",
    "print(f\"seu IMC é: {imc:.2f}\")\n",
    "\n",
    "if imc < 18.5:\n",
    "    print(\"Abaixo do peso\")\n",
    "elif 18.5 <= imc < 24.9:\n",
    "    print(\"Peso normal\")\n",
    "elif 25 <= imc < 29.9:\n",
    "    print(\"Sobrepeso\")\n",
    "elif 30 <= imc < 34.9:\n",
    "    print(\"Obesidade Grau 1\")\n",
    "elif 35 <= imc < 39.9:\n",
    "    print(\"Obesidade Grau 2\")\n",
    "else:\n",
    "    print(\"Obesidade Grau 3 (Obesidade Mórbida)\")"
   ]
  }
 ],
 "metadata": {
  "kernelspec": {
   "display_name": ".venv",
   "language": "python",
   "name": "python3"
  },
  "language_info": {
   "codemirror_mode": {
    "name": "ipython",
    "version": 3
   },
   "file_extension": ".py",
   "mimetype": "text/x-python",
   "name": "python",
   "nbconvert_exporter": "python",
   "pygments_lexer": "ipython3",
   "version": "3.12.5"
  }
 },
 "nbformat": 4,
 "nbformat_minor": 2
}
